{
  "nbformat": 4,
  "nbformat_minor": 0,
  "metadata": {
    "colab": {
      "name": "CrimeData.ipynb",
      "provenance": [],
      "mount_file_id": "1J1dE1cvrTKsSqH2eBlqRJj-xs4GQd15i",
      "authorship_tag": "ABX9TyOl3yGzH4yc8RUfwwk0swFV",
      "include_colab_link": true
    },
    "kernelspec": {
      "name": "python3",
      "display_name": "Python 3"
    },
    "language_info": {
      "name": "python"
    }
  },
  "cells": [
    {
      "cell_type": "markdown",
      "metadata": {
        "id": "view-in-github",
        "colab_type": "text"
      },
      "source": [
        "<a href=\"https://colab.research.google.com/github/nicholasoxford/pythonViz/blob/main/CrimeData.ipynb\" target=\"_parent\"><img src=\"https://colab.research.google.com/assets/colab-badge.svg\" alt=\"Open In Colab\"/></a>"
      ]
    },
    {
      "cell_type": "code",
      "metadata": {
        "id": "zEEASJkczut1"
      },
      "source": [
        "import pandas as pd\n",
        "import numpy as np\n",
        "!pip install geopandas\n",
        "!pip install shapely\n",
        "import geopandas as gpd\n",
        "from shapely.geometry import Point, Polygon\n",
        "import matplotlib.pyplot as plt"
      ],
      "execution_count": null,
      "outputs": []
    },
    {
      "cell_type": "code",
      "metadata": {
        "id": "Wzq1-9n680jj"
      },
      "source": [
        "\n",
        "df = pd.read_csv('/content/drive/MyDrive/COBRA-2021.csv')\n",
        "dfMurder = df.loc[df['UC2_Literal'] == 'HOMICIDE']\n",
        "dfMurder.set_index('rpt_date')\n",
        "# https://www.atlantapd.org/home/showpublisheddocument/4080\n",
        "street_map = gpd.read_file('/content/drive/MyDrive/GC_Roads/GC_RD_GA/Roads_Atlanta_GA.shp')\n",
        "crs = {'init':'espc:4326'}\n",
        "geometry = [Point(xy) for xy in zip(dfMurder['long'], dfMurder['lat'])]\n",
        "\n",
        "geo_df = gpd.GeoDataFrame(dfMurder, crs=\"EPSG:4326\", geometry=geometry)\n",
        "street_map.to_crs(epsg='4236')\n"
      ],
      "execution_count": null,
      "outputs": []
    },
    {
      "cell_type": "code",
      "metadata": {
        "id": "oUi-wnMC-UlQ"
      },
      "source": [
        "fig, ax = plt.subplots(figsize=(15,15))\n",
        "# add .shp mapfile to axes\n",
        "street_map.plot(ax=ax, alpha=0.4,color='grey')\n",
        "# add geodataframe to axes\n",
        "# assign ‘price’ variable to represent coordinates on graph\n",
        "# add legend\n",
        "# make datapoints transparent using alpha\n",
        "# assign size of points using markersize\n",
        "geo_df.plot(ax=ax,alpha=0.5, legend=True,markersize=30)\n",
        "# add title to graph\n",
        "plt.title('Crime in ATl', fontsize=15,fontweight='bold')\n",
        "# set latitiude and longitude boundaries for map display\n",
        "plt.xlim(-84.55,-84.3)\n",
        "plt.ylim( 33.6, 33.7)\n",
        "# show map\n",
        "plt.show()\n"
      ],
      "execution_count": null,
      "outputs": []
    }
  ]
}